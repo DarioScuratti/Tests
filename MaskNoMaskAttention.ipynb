{
  "nbformat": 4,
  "nbformat_minor": 0,
  "metadata": {
    "colab": {
      "name": "MaskNoMaskAttention.ipynb",
      "provenance": []
    },
    "kernelspec": {
      "name": "python3",
      "display_name": "Python 3"
    },
    "accelerator": "GPU"
  },
  "cells": [
    {
      "cell_type": "code",
      "metadata": {
        "id": "Zzv6SauTFPMT"
      },
      "source": [
        "# Libraries\n",
        "import pandas as pd\n",
        "import numpy as np\n",
        "import tensorflow as tf\n",
        "import keras\n",
        "import zipfile\n",
        "from keras import backend as K\n",
        "from keras.models import Model\n",
        "from keras.engine.topology import Layer\n",
        "from keras.layers import Input\n",
        "from keras.layers.core import Dense, Lambda, Activation, Flatten, Reshape\n",
        "from keras.layers.convolutional import Conv2D\n",
        "from keras.layers.merge import Concatenate, Add\n",
        "from keras.layers.pooling import MaxPooling2D, AveragePooling2D\n",
        "from keras.layers.normalization import BatchNormalization\n",
        "from keras.callbacks import Callback, LearningRateScheduler, ModelCheckpoint, LambdaCallback, TensorBoard, EarlyStopping, ReduceLROnPlateau\n",
        "from keras.optimizers import SGD\n",
        "import os"
      ],
      "execution_count": null,
      "outputs": []
    },
    {
      "cell_type": "code",
      "metadata": {
        "id": "Mk2Aso9UHwvp"
      },
      "source": [
        "# Import dataset from Drive\n",
        "with zipfile.ZipFile(\"drive/My Drive/majVoting-two.zip\", \"r\") as zip:\n",
        "  zip.extractall()"
      ],
      "execution_count": null,
      "outputs": []
    },
    {
      "cell_type": "code",
      "metadata": {
        "id": "gZ48jE1AQ-MU"
      },
      "source": [
        "# Move from majVoting to the test folder\n",
        "os.mkdir('test')\n",
        "os.mkdir('test/Yes')\n",
        "os.mkdir('test/No')"
      ],
      "execution_count": null,
      "outputs": []
    },
    {
      "cell_type": "code",
      "metadata": {
        "id": "2y2ytN36Ouef"
      },
      "source": [
        "# Move files in the test folder\n",
        "# Separate the tweets of week 44 as te testing dataset\n",
        "twts = pd.read_csv('drive/MyDrive/alltwts.csv')\n",
        "w44 = twts[twts.week == 'w44']"
      ],
      "execution_count": null,
      "outputs": []
    },
    {
      "cell_type": "code",
      "metadata": {
        "id": "vsiv5HL-RBJo"
      },
      "source": [
        "start = 'majVoting-two/'\n",
        "dest = 'test/'\n",
        "classes = ['Yes', 'No']\n",
        "ext = '.jpg'\n",
        "\n",
        "for i in w44['id_str'].values:\n",
        "    for c in classes:\n",
        "      print(start+c+'/'+str(i)+ext)\n",
        "      print(os.path.isfile(start+c+'/'+str(i)+ext))\n",
        "      if os.path.isfile(start+c+'/'+str(i)+ext):\n",
        "        os.rename(start+c+'/'+i+ext, dest+c+'/'+str(i)+ext)"
      ],
      "execution_count": null,
      "outputs": []
    },
    {
      "cell_type": "code",
      "metadata": {
        "id": "4zEkyp1dFWFV",
        "colab": {
          "base_uri": "https://localhost:8080/"
        },
        "outputId": "94e5e136-53b4-49f1-d71b-213833d155a8"
      },
      "source": [
        "# Dataset Generation from Directory\n",
        "bSize = 50\n",
        "seed = 12345\n",
        "eps = 100\n",
        "\n",
        "rows = 75\n",
        "cols = 75\n",
        "channels = 3\n",
        "\n",
        "path = \"majVoting-two\"\n",
        "\n",
        "# Define the generator\n",
        "datagen = keras.preprocessing.image.ImageDataGenerator(\n",
        "    rotation_range = 30,\n",
        "    rescale=1./ 255,\n",
        "    shear_range= 0.15,\n",
        "    zoom_range= 0.15,\n",
        "    horizontal_flip=True,\n",
        "    validation_split = 0.2\n",
        ")\n",
        "\n",
        "train = datagen.flow_from_directory(\n",
        "    directory = path,\n",
        "    target_size = (rows, cols),\n",
        "    color_mode = 'rgb',\n",
        "    class_mode = 'categorical',\n",
        "    batch_size = bSize,\n",
        "    subset = 'training'\n",
        ")\n",
        "\n",
        "val = datagen.flow_from_directory(\n",
        "    directory = path,\n",
        "    target_size = (rows, cols),\n",
        "    color_mode = 'rgb',\n",
        "    class_mode = 'categorical',\n",
        "    batch_size = bSize,\n",
        "    subset = 'validation'\n",
        ")"
      ],
      "execution_count": null,
      "outputs": [
        {
          "output_type": "stream",
          "text": [
            "Found 5402 images belonging to 2 classes.\n",
            "Found 1350 images belonging to 2 classes.\n"
          ],
          "name": "stdout"
        }
      ]
    },
    {
      "cell_type": "code",
      "metadata": {
        "colab": {
          "base_uri": "https://localhost:8080/"
        },
        "id": "k941GBJSoadY",
        "outputId": "8a1b093e-253f-4426-f5c9-d3d4bb1cd744"
      },
      "source": [
        "label_map = (val.class_indices)\n",
        "label_map = dict((v,k) for k,v in label_map.items()) #flip k,v\n",
        "label_map"
      ],
      "execution_count": null,
      "outputs": [
        {
          "output_type": "execute_result",
          "data": {
            "text/plain": [
              "{0: 'No', 1: 'Yes'}"
            ]
          },
          "metadata": {
            "tags": []
          },
          "execution_count": 39
        }
      ]
    },
    {
      "cell_type": "code",
      "metadata": {
        "id": "MMtwDYILFWCk"
      },
      "source": [
        "# Classifier Definition\n",
        "def transfer_schedule(epoch):\n",
        "        if epoch < 30:\n",
        "            return 0.3\n",
        "        if epoch < 60:\n",
        "            return 0.4\n",
        "        if epoch < 90:\n",
        "            return 0.5\n",
        "        if epoch < 120:\n",
        "            return 0.2\n",
        "        if epoch < 150:\n",
        "            return 0.1\n",
        "        if epoch < 180:\n",
        "            return 0.05\n",
        "        if epoch < 210:\n",
        "            return 0.025\n",
        "        if epoch < 240:\n",
        "            return 0.0125\n",
        "        if epoch < 270:\n",
        "            return 0.00625\n",
        "        return 0.003125\n",
        "\n",
        "class AttentionVGG:\n",
        "\n",
        "    def VGGBlock(self, x, regularizer=None, batchnorm=False):\n",
        "        if batchnorm:\n",
        "            x = Conv2D(64, (3, 3), padding='same', kernel_regularizer=regularizer, name='conv1')(x)\n",
        "            x = BatchNormalization()(x)\n",
        "            x = Activation('relu')(x)\n",
        "            x = Conv2D(64, (3, 3), padding='same', kernel_regularizer=regularizer, name='conv2')(x)\n",
        "            x = BatchNormalization()(x)\n",
        "            x = Activation('relu')(x)\n",
        "\n",
        "            x = Conv2D(128, (3, 3), padding='same', kernel_regularizer=regularizer, name='conv3')(x)\n",
        "            x = BatchNormalization()(x)\n",
        "            x = Activation('relu')(x)\n",
        "            x = Conv2D(128, (3, 3), padding='same', kernel_regularizer=regularizer, name='conv4')(x)\n",
        "            x = BatchNormalization()(x)\n",
        "            x = Activation('relu')(x)\n",
        "\n",
        "            x = Conv2D(256, (3, 3), padding='same', kernel_regularizer=regularizer, name='conv5')(x)\n",
        "            x = BatchNormalization()(x)\n",
        "            x = Activation('relu')(x)\n",
        "            x = Conv2D(256, (3, 3), padding='same', kernel_regularizer=regularizer, name='conv6')(x)\n",
        "            x = BatchNormalization()(x)\n",
        "            x = Activation('relu')(x)\n",
        "            x = Conv2D(256, (3, 3), padding='same', kernel_regularizer=regularizer, name='conv7')(x)\n",
        "            x = BatchNormalization()(x)\n",
        "            local1 = Activation('relu')(x)  # batch*x*y*channel\n",
        "            x = MaxPooling2D((2, 2), strides=(2, 2), name='pool1')(x)\n",
        "\n",
        "            x = Conv2D(512, (3, 3), padding='same', kernel_regularizer=regularizer, name='conv8')(x)\n",
        "            x = BatchNormalization()(x)\n",
        "            x = Activation('relu')(x)\n",
        "            x = Conv2D(512, (3, 3), padding='same', kernel_regularizer=regularizer, name='conv9')(x)\n",
        "            x = BatchNormalization()(x)\n",
        "            x = Activation('relu')(x)\n",
        "            x = Conv2D(512, (3, 3), padding='same', kernel_regularizer=regularizer, name='conv10')(x)\n",
        "            x = BatchNormalization()(x)\n",
        "            local2 = Activation('relu')(x)\n",
        "            x = MaxPooling2D((2, 2), strides=(2, 2), name='pool2')(local2)\n",
        "\n",
        "            x = Conv2D(512, (3, 3), padding='same', kernel_regularizer=regularizer, name='conv11')(x)\n",
        "            x = BatchNormalization()(x)\n",
        "            x = Activation('relu')(x)\n",
        "            x = Conv2D(512, (3, 3), padding='same', kernel_regularizer=regularizer, name='conv12')(x)\n",
        "            x = BatchNormalization()(x)\n",
        "            x = Activation('relu')(x)\n",
        "            x = Conv2D(512, (3, 3), padding='same', kernel_regularizer=regularizer, name='conv13')(x)\n",
        "            x = BatchNormalization()(x)\n",
        "            local3 = Activation('relu')(x)\n",
        "            x = MaxPooling2D((2, 2), strides=(2, 2), name='pool3')(local3)\n",
        "\n",
        "            x = Conv2D(512, (3, 3), padding='same', kernel_regularizer=regularizer, name='conv14')(x)\n",
        "            x = BatchNormalization()(x)\n",
        "            x = Activation('relu')(x)\n",
        "            x = MaxPooling2D((2, 2), strides=(2, 2), name='pool4')(x)\n",
        "            x = Conv2D(512, (3, 3), padding='same', kernel_regularizer=regularizer, name='conv15')(x)\n",
        "            x = BatchNormalization()(x)\n",
        "            x = Activation('relu')(x)\n",
        "            x = MaxPooling2D((2, 2), strides=(2, 2), name='pool5')(x)\n",
        "            x = Flatten(name='pregflatten')(x)\n",
        "            g = Dense(512, activation='relu', kernel_regularizer=regularizer, name='globalg')(x)  # batch*512\n",
        "            return (g, local1, local2, local3)\n",
        "        else:\n",
        "            x = Conv2D(64, (3, 3), activation='relu', padding='same', kernel_regularizer=regularizer, name='conv1')(x)\n",
        "            x = Conv2D(64, (3, 3), activation='relu', padding='same', kernel_regularizer=regularizer, name='conv2')(x)\n",
        "\n",
        "            x = Conv2D(128, (3, 3), activation='relu', padding='same', kernel_regularizer=regularizer, name='conv3')(x)\n",
        "            x = Conv2D(128, (3, 3), activation='relu', padding='same', kernel_regularizer=regularizer, name='conv4')(x)\n",
        "\n",
        "            x = Conv2D(256, (3, 3), activation='relu', padding='same', kernel_regularizer=regularizer, name='conv5')(x)\n",
        "            x = Conv2D(256, (3, 3), activation='relu', padding='same', kernel_regularizer=regularizer, name='conv6')(x)\n",
        "            local1 = Conv2D(256, (3, 3), activation='relu', padding='same', kernel_regularizer=regularizer,\n",
        "                            name='conv7')(x)  # batch*x*y*channel\n",
        "            x = MaxPooling2D((2, 2), strides=(2, 2), name='pool1')(local1)\n",
        "\n",
        "            x = Conv2D(512, (3, 3), activation='relu', padding='same', kernel_regularizer=regularizer, name='conv8')(x)\n",
        "            x = Conv2D(512, (3, 3), activation='relu', padding='same', kernel_regularizer=regularizer, name='conv9')(x)\n",
        "            local2 = Conv2D(512, (3, 3), activation='relu', padding='same', kernel_regularizer=regularizer,\n",
        "                            name='conv10')(x)\n",
        "            x = MaxPooling2D((2, 2), strides=(2, 2), name='pool2')(local2)\n",
        "\n",
        "            x = Conv2D(512, (3, 3), activation='relu', padding='same', kernel_regularizer=regularizer, name='conv11')(x)\n",
        "            x = Conv2D(512, (3, 3), activation='relu', padding='same', kernel_regularizer=regularizer, name='conv12')(x)\n",
        "            local3 = Conv2D(512, (3, 3), activation='relu', padding='same', kernel_regularizer=regularizer,\n",
        "                            name='conv13')(x)\n",
        "            x = MaxPooling2D((2, 2), strides=(2, 2), name='pool3')(local3)\n",
        "\n",
        "            x = Conv2D(512, (3, 3), activation='relu', padding='same', kernel_regularizer=regularizer, name='conv14')(x)\n",
        "            x = MaxPooling2D((2, 2), strides=(2, 2), name='pool4')(x)\n",
        "            x = Conv2D(512, (3, 3), activation='relu', padding='same', kernel_regularizer=regularizer, name='conv15')(x)\n",
        "            x = MaxPooling2D((2, 2), strides=(2, 2), name='pool5')(x)\n",
        "            x = Flatten(name='pregflatten')(x)\n",
        "            g = Dense(512, activation='relu', kernel_regularizer=regularizer, name='globalg')(x)  # batch*512\n",
        "            return (g, local1, local2, local3)\n",
        "\n",
        "    def __init__(self, att='att3', gmode='concat', compatibilityfunction='pc', datasetname=\"cifar100\", height=rows,\n",
        "                 width=cols, channels= channels, outputclasses=10, batchnorm=True, batchnormalizeinput=True, weight_decay=0.005,\n",
        "                 optimizer=SGD(lr=0.01, momentum=0.9, decay=0.00001), loss='categorical_crossentropy',\n",
        "                 metrics=['accuracy']):\n",
        "        inp = Input(shape=(height, width, channels))\n",
        "        input = inp\n",
        "        if batchnormalizeinput:\n",
        "            input = BatchNormalization()(input)\n",
        "        regularizer = keras.regularizers.l2(weight_decay)\n",
        "        self.datasetname = datasetname\n",
        "        self.outputclasses = outputclasses\n",
        "\n",
        "        (g, local1, local2, local3) = self.VGGBlock(input, regularizer, batchnorm)\n",
        "\n",
        "        l1 = Dense(512, kernel_regularizer=regularizer, name='l1connectordense')(local1)  # batch*x*y*512\n",
        "        c1 = ParametrisedCompatibility(kernel_regularizer=regularizer, name='cpc1')([l1, g])  # batch*x*y\n",
        "        if compatibilityfunction == 'dp':\n",
        "            c1 = Lambda(lambda lam: K.squeeze(\n",
        "                K.map_fn(lambda xy: K.dot(xy[0], xy[1]), elems=(lam[0], K.expand_dims(lam[1], -1)), dtype='float32'),\n",
        "                3), name='cdp1')([l1, g])  # batch*x*y\n",
        "        flatc1 = Flatten(name='flatc1')(c1)  # batch*xy\n",
        "        a1 = Activation('softmax', name='softmax1')(flatc1)  # batch*xy\n",
        "        reshaped1 = Reshape((-1, 512), name='reshape1')(l1)  # batch*xy*512.\n",
        "        g1 = Lambda(lambda lam: K.squeeze(K.batch_dot(K.expand_dims(lam[0], 1), lam[1]), 1), name='g1')(\n",
        "            [a1, reshaped1])  # batch*512.\n",
        "\n",
        "        l2 = local2\n",
        "        c2 = ParametrisedCompatibility(kernel_regularizer=regularizer, name='cpc2')([l2, g])\n",
        "        if compatibilityfunction == 'dp':\n",
        "            c2 = Lambda(lambda lam: K.squeeze(\n",
        "                K.map_fn(lambda xy: K.dot(xy[0], xy[1]), elems=(lam[0], K.expand_dims(lam[1], -1)), dtype='float32'),\n",
        "                3), name='cdp2')([l2, g])\n",
        "        flatc2 = Flatten(name='flatc2')(c2)\n",
        "        a2 = Activation('softmax', name='softmax2')(flatc2)\n",
        "        reshaped2 = Reshape((-1, 512), name='reshape2')(l2)\n",
        "        g2 = Lambda(lambda lam: K.squeeze(K.batch_dot(K.expand_dims(lam[0], 1), lam[1]), 1), name='g2')([a2, reshaped2])\n",
        "\n",
        "        l3 = local3\n",
        "        c3 = ParametrisedCompatibility(kernel_regularizer=regularizer, name='cpc3')([l3, g])\n",
        "        if compatibilityfunction == 'dp':\n",
        "            c3 = Lambda(lambda lam: K.squeeze(\n",
        "                K.map_fn(lambda xy: K.dot(xy[0], xy[1]), elems=(lam[0], K.expand_dims(lam[1], -1)), dtype='float32'),\n",
        "                3), name='cdp3')([l3, g])\n",
        "        flatc3 = Flatten(name='flatc3')(c3)\n",
        "        a3 = Activation('softmax', name='softmax3')(flatc3)\n",
        "        reshaped3 = Reshape((-1, 512), name='reshape3')(l3)\n",
        "        g3 = Lambda(lambda lam: K.squeeze(K.batch_dot(K.expand_dims(lam[0], 1), lam[1]), 1), name='g3')([a3, reshaped3])\n",
        "\n",
        "        out = ''\n",
        "        if gmode == 'concat':\n",
        "            glist = [g3]\n",
        "            if att == 'att2':\n",
        "                glist.append(g2)\n",
        "            if att == 'att3':\n",
        "                glist.append(g2)\n",
        "                glist.append(g1)\n",
        "            predictedG = g3\n",
        "            if att != 'att1' and att != 'att':\n",
        "                predictedG = Concatenate(axis=1, name='ConcatG')(glist)\n",
        "            x = Dense(outputclasses, kernel_regularizer=regularizer, name=str(outputclasses) + 'ConcatG')(predictedG)\n",
        "            out = Activation(\"softmax\", name='concatsoftmaxout')(x)\n",
        "        else:\n",
        "            gd3 = Dense(outputclasses, activation='softmax', name=str(outputclasses) + 'indepsoftmaxg3')(g3)\n",
        "            if att == 'att' or att == 'att1':\n",
        "                out = gd3\n",
        "            elif att == 'att2':\n",
        "                gd2 = Dense(outputclasses, activation='softmax', kernel_regularizer=regularizer,\n",
        "                            name=str(outputclasses) + 'indepsoftmaxg2')(g2)\n",
        "                out = Add(name='addg3g2')([gd3, gd2])\n",
        "                out = Lambda(lambda lam: lam / 2, name='2average')(out)\n",
        "            else:\n",
        "                gd2 = Dense(outputclasses, activation='softmax', kernel_regularizer=regularizer,\n",
        "                            name=str(outputclasses) + 'indepsoftmaxg2')(g2)\n",
        "                gd1 = Dense(outputclasses, activation='softmax', kernel_regularizer=regularizer,\n",
        "                            name=str(outputclasses) + 'indepsoftmaxg2')(g1)\n",
        "                out = Add(name='addg3g2g1')([gd1, gd2, gd3])\n",
        "                out = Lambda(lambda lam: lam / 3, name='3average')(out)\n",
        "\n",
        "        model = Model(inputs=inp, outputs=out)\n",
        "        model.compile(optimizer=optimizer, loss=loss, metrics=metrics)\n",
        "        name = (\"(VGG-\" + att + \")-\" + gmode + \"-\" + compatibilityfunction).replace('att)', 'att1)')\n",
        "        print(\"Generated \" + name)\n",
        "        self.name = name\n",
        "        self.model = model\n",
        "\n",
        "    def StandardFit(self, datasetname=None, train_data = None, transfer=False, initial_lr=0.01, min_delta=None,\n",
        "                    patience=20, val_data=None, lrplateaufactor=None, lrplateaupatience=4):\n",
        "        if datasetname == None:\n",
        "            datasetname = self.datasetname\n",
        "        if os.path.isfile(\"weights/\" + self.name + \"-\" + datasetname + \" early.hdf5\"):\n",
        "            print(\"Found early-stopped weights for \" + self.name + \"-\" + datasetname)\n",
        "            return\n",
        "        #scheduler = LearningRateScaler(25, 0.5, initial_lr)\n",
        "        scheduler = LearningRateScheduler(transfer_schedule)\n",
        "        startingepoch = 0\n",
        "        pastepochs = list(map(int,\n",
        "                              [x.replace(\".hdf5\", \"\").replace(self.name + \"-\" + datasetname, \"\").replace(\" \", \"\") for x\n",
        "                               in os.listdir(\"weights\") if (self.name + \"-\" + datasetname in x) & (\"early\" not in x)]))\n",
        "        if len(pastepochs):\n",
        "            if max(pastepochs) == 300:\n",
        "                print(\"Found completely trained weights for \" + self.name + \"-\" + datasetname)\n",
        "                return\n",
        "            self.model.load_weights(\"weights/\" + self.name + \"-\" + datasetname + \" \" + str(max(pastepochs)) + \".hdf5\")\n",
        "            startingepoch = max(pastepochs)\n",
        "        elif transfer:\n",
        "            if os.path.isfile(\"weights/\" + self.name + \"-\" + datasetname + \" early.hdf5\"):\n",
        "                self.model.load_weights(\"weights/\" + self.name + \"-\" + datasetname + \" early.hdf5\", by_name=True)\n",
        "            else:\n",
        "                self.model.load_weights(\"weights/\" + self.name + \"-cifar100 300.hdf5\", by_name=True)\n",
        "            scheduler = LearningRateScheduler(transfer_schedule)\n",
        "        tboardcb = TensorBoard(log_dir='./logs', histogram_freq=0, batch_size=3, write_graph=True, write_grads=False,\n",
        "                               write_images=False, embeddings_freq=0, embeddings_layer_names=None,\n",
        "                               embeddings_metadata=None)\n",
        "        checkpoint = ModelCheckpoint(\"weights/\" + self.name + \"-\" + datasetname + \" {epoch}.hdf5\",\n",
        "                                     save_weights_only=True)\n",
        "        epochprint = LambdaCallback(on_epoch_end=lambda epoch, logs: print(\"Passed epoch \" + str(epoch)))\n",
        "        callbackslist = [scheduler, checkpoint, epochprint, tboardcb]\n",
        "        if val_data == None:\n",
        "            self.model.fit(train_data, batch_size = bSize, epochs = eps, steps_per_epoch = 5400/bSize, callbacks=callbackslist, initial_epoch=startingepoch, shuffle=True)\n",
        "        else:\n",
        "            if min_delta != None:\n",
        "                callbackslist.append(EarlyStopping(monitor='val_accuracy', min_delta=min_delta, patience=patience))\n",
        "            if lrplateaufactor != None:\n",
        "                callbackslist.append(\n",
        "                    ReduceLROnPlateau(monitor='loss', factor=lrplateaufactor, patience=lrplateaupatience))\n",
        "            self.model.fit(train_data, batch_size = bSize, epochs = eps, steps_per_epoch = 5400/bSize, callbacks=callbackslist, initial_epoch=startingepoch, shuffle=True, validation_data = val_data)\n",
        "            self.model.save_weights(\"weights/\" + self.name + \"-\" + datasetname + \" early.hdf5\")\n",
        "        pastepochs = list(map(int,\n",
        "                              [x.replace(\".hdf5\", \"\").replace(self.name + \"-\" + datasetname, \"\").replace(\" \", \"\") for x\n",
        "                               in os.listdir(\"weights\") if (self.name + \"-\" + datasetname in x) & (\"early\" not in x)]))\n",
        "        if max(pastepochs) > 290:\n",
        "            for filenum in range(1, 297):  # delete most of the lower weight files\n",
        "                try:\n",
        "                    os.remove(\"weights/\" + self.name + \"-\" + datasetname + \" \" + str(filenum) + \".hdf5\")\n",
        "                except OSError:\n",
        "                    pass\n",
        "        return self.model\n",
        "\n",
        "\n",
        "class ParametrisedCompatibility(Layer):\n",
        "\n",
        "    def __init__(self, kernel_regularizer=None, **kwargs):\n",
        "        super(ParametrisedCompatibility, self).__init__(**kwargs)\n",
        "        self.regularizer = kernel_regularizer\n",
        "\n",
        "    def build(self, input_shape):\n",
        "        self.u = self.add_weight(name='u', shape=(input_shape[0][3], 1), initializer='uniform',\n",
        "                                 regularizer=self.regularizer, trainable=True)\n",
        "        super(ParametrisedCompatibility, self).build(input_shape)\n",
        "\n",
        "    def call(self, x):  # add l and g. Dot the sum with u.\n",
        "        return K.dot(K.map_fn(lambda lam: (lam[0] + lam[1]), elems=(x), dtype='float32'), self.u)\n",
        "\n",
        "    def compute_output_shape(self, input_shape):\n",
        "        return (input_shape[0][0], input_shape[0][1], input_shape[0][2])\n",
        "\n",
        "\n",
        "class LearningRateScaler(Callback):\n",
        "\n",
        "    def __init__(self, epochs, multiplier, initial_lr=None):\n",
        "        self.multiplier = multiplier\n",
        "        self.epochs = epochs\n",
        "        self.initial_lr = initial_lr\n",
        "        self.startingepoch = True\n",
        "\n",
        "    def on_train_begin(self, logs=None):\n",
        "        if self.initial_lr == None:\n",
        "            self.initial_lr = K.get_value(self.model.optimizer.lr)\n",
        "        print(\"Initial lr=\" + str(self.initial_lr))\n",
        "\n",
        "    def on_epoch_begin(self, epoch, logs=None):\n",
        "        if not hasattr(self.model.optimizer, 'lr'):\n",
        "            raise ValueError('Optimizer must have a \"lr\" attribute.')\n",
        "        print(\"Current lr: \" + str(K.get_value(self.model.optimizer.lr)))\n",
        "        lr = self.initial_lr\n",
        "        if (epoch > 0 and epoch % self.epochs == 0) or self.startingepoch:\n",
        "            for i in range(0, epoch // self.epochs):\n",
        "                lr = lr * self.multiplier\n",
        "            K.set_value(self.model.optimizer.lr, lr)\n",
        "            print(\"Updated learning rate to \" + str(lr))\n",
        "            self.startingepoch = False\n",
        "        elif isinstance(self.epochs, list):\n",
        "            if epoch > 0 and epoch in self.epochs.sort():\n",
        "                for i in range(0, self.epochs.sort().index(epoch) + 1):\n",
        "                    lr = lr * self.multiplier\n",
        "                K.set_value(self.model.optimizer.lr, lr)\n",
        "                print(\"Updated learning rate to \" + str(lr))\n",
        "\n",
        "    def on_epoch_end(self, epoch, logs=None):\n",
        "        startingepoch = False"
      ],
      "execution_count": null,
      "outputs": []
    },
    {
      "cell_type": "code",
      "metadata": {
        "id": "KYJ68--AFV_r",
        "colab": {
          "base_uri": "https://localhost:8080/",
          "height": 164
        },
        "outputId": "ed1821fe-6499-4852-859a-63a2a4a8b85d"
      },
      "source": [
        "os.mkdir(\"weights\")"
      ],
      "execution_count": null,
      "outputs": [
        {
          "output_type": "error",
          "ename": "FileExistsError",
          "evalue": "ignored",
          "traceback": [
            "\u001b[0;31m---------------------------------------------------------------------------\u001b[0m",
            "\u001b[0;31mFileExistsError\u001b[0m                           Traceback (most recent call last)",
            "\u001b[0;32m<ipython-input-32-48eaa1e9a237>\u001b[0m in \u001b[0;36m<module>\u001b[0;34m()\u001b[0m\n\u001b[0;32m----> 1\u001b[0;31m \u001b[0mos\u001b[0m\u001b[0;34m.\u001b[0m\u001b[0mmkdir\u001b[0m\u001b[0;34m(\u001b[0m\u001b[0;34m\"weights\"\u001b[0m\u001b[0;34m)\u001b[0m\u001b[0;34m\u001b[0m\u001b[0;34m\u001b[0m\u001b[0m\n\u001b[0m",
            "\u001b[0;31mFileExistsError\u001b[0m: [Errno 17] File exists: 'weights'"
          ]
        }
      ]
    },
    {
      "cell_type": "code",
      "metadata": {
        "id": "SUzM_qS-FV0_",
        "colab": {
          "base_uri": "https://localhost:8080/"
        },
        "outputId": "09264b69-8c16-483e-911d-59af77777ced"
      },
      "source": [
        "AttentionVGG = AttentionVGG(outputclasses=2).StandardFit(\"MaskNoMaskAttention\",train_data = train, min_delta=0.01, patience=15, val_data=val)"
      ],
      "execution_count": null,
      "outputs": [
        {
          "output_type": "stream",
          "text": [
            "Generated (VGG-att3)-concat-pc\n",
            "Found early-stopped weights for (VGG-att3)-concat-pc-MaskNoMaskAttention\n"
          ],
          "name": "stdout"
        }
      ]
    },
    {
      "cell_type": "code",
      "metadata": {
        "id": "KP_5F8mRFVsC",
        "colab": {
          "base_uri": "https://localhost:8080/",
          "height": 754
        },
        "outputId": "9442cd04-4480-4e37-fa4f-0f162b7a76e4"
      },
      "source": [
        "import matplotlib.pyplot as plt\n",
        "\n",
        "def display_training_curves(training, validation, title, subplot):\n",
        "  ax = plt.subplot(subplot)\n",
        "  ax.plot(training)\n",
        "  ax.plot(validation)\n",
        "  ax.set_title('model '+ title)\n",
        "  ax.set_ylabel(title)\n",
        "  ax.set_xlabel('epoch')\n",
        "  ax.legend(['training', 'validation'])\n",
        "\n",
        "plt.subplots(figsize=(10,10))\n",
        "plt.tight_layout()\n",
        "display_training_curves(AttentionVGG.history.history['accuracy'], AttentionVGG.history.history['val_accuracy'], 'accuracy', 211)\n",
        "display_training_curves(AttentionVGG.history.history['loss'], AttentionVGG.history.history['val_loss'], 'loss', 212)"
      ],
      "execution_count": null,
      "outputs": [
        {
          "output_type": "display_data",
          "data": {
            "image/png": "[encoded data removed]",
            "text/plain": [
              "<Figure size 720x720 with 2 Axes>"
            ]
          },
          "metadata": {
            "tags": [],
            "needs_background": "light"
          }
        }
      ]
    },
    {
      "cell_type": "code",
      "metadata": {
        "id": "aHZwK_16boXy"
      },
      "source": [
        ""
      ],
      "execution_count": null,
      "outputs": []
    }
  ]
}